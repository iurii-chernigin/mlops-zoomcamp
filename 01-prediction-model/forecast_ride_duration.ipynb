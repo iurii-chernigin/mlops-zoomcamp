{
 "cells": [
  {
   "cell_type": "code",
   "execution_count": 2,
   "metadata": {
    "collapsed": true,
    "ExecuteTime": {
     "end_time": "2023-06-19T19:08:24.414228Z",
     "start_time": "2023-06-19T19:08:24.404956Z"
    }
   },
   "outputs": [],
   "source": [
    "import pandas as pd\n",
    "\n",
    "from sklearn.feature_extraction import DictVectorizer\n",
    "from sklearn.linear_model import LinearRegression\n",
    "from sklearn.metrics import mean_squared_error\n",
    "\n",
    "import seaborn as sns"
   ]
  },
  {
   "cell_type": "code",
   "execution_count": 3,
   "outputs": [],
   "source": [
    "TRAIN_DATA_PATH = \"data/yellow_tripdata_2022-01.parquet\"\n",
    "VALIDATION_DATA_PATH = \"data/yellow_tripdata_2022-02.parquet\""
   ],
   "metadata": {
    "collapsed": false,
    "ExecuteTime": {
     "end_time": "2023-06-19T19:08:25.476916Z",
     "start_time": "2023-06-19T19:08:25.465429Z"
    }
   }
  },
  {
   "cell_type": "code",
   "execution_count": 18,
   "outputs": [],
   "source": [
    "test = pd.read_parquet(TRAIN_DATA_PATH)"
   ],
   "metadata": {
    "collapsed": false,
    "ExecuteTime": {
     "end_time": "2023-06-19T19:24:09.577662Z",
     "start_time": "2023-06-19T19:24:08.922897Z"
    }
   }
  },
  {
   "cell_type": "code",
   "execution_count": 19,
   "outputs": [
    {
     "data": {
      "text/plain": "VendorID                          int64\ntpep_pickup_datetime     datetime64[ns]\ntpep_dropoff_datetime    datetime64[ns]\npassenger_count                 float64\ntrip_distance                   float64\nRatecodeID                      float64\nstore_and_fwd_flag               object\nPULocationID                      int64\nDOLocationID                      int64\npayment_type                      int64\nfare_amount                     float64\nextra                           float64\nmta_tax                         float64\ntip_amount                      float64\ntolls_amount                    float64\nimprovement_surcharge           float64\ntotal_amount                    float64\ncongestion_surcharge            float64\nairport_fee                     float64\ndtype: object"
     },
     "execution_count": 19,
     "metadata": {},
     "output_type": "execute_result"
    }
   ],
   "source": [
    "test.dtypes"
   ],
   "metadata": {
    "collapsed": false,
    "ExecuteTime": {
     "end_time": "2023-06-19T19:24:16.952976Z",
     "start_time": "2023-06-19T19:24:16.944144Z"
    }
   }
  },
  {
   "cell_type": "markdown",
   "source": [
    "## Data Preparation"
   ],
   "metadata": {
    "collapsed": false
   }
  },
  {
   "cell_type": "code",
   "execution_count": 20,
   "outputs": [],
   "source": [
    "def read_data(filepath: str=\"data/\", categorical_fields: [] = [\"dropoff_location_id\", \"pickup_location_id\"]) -> pd.DataFrame:\n",
    "    \"\"\"\n",
    "    - Read data by the path\n",
    "    - Clean data: rename fields, remove outliers, etc\n",
    "    - Print some information about the figures\n",
    "\n",
    "    :param filepath: path to parquet files\n",
    "    :return: DataFrame with cleaned data\n",
    "    \"\"\"\n",
    "    fields = [\"tpep_pickup_datetime\", \"tpep_dropoff_datetime\", \"PULocationID\", \"DOLocationID\", \"trip_distance\"]\n",
    "\n",
    "    yellow_ride_df = pd.read_parquet(filepath)\n",
    "    yellow_ride_df = yellow_ride_df[fields].copy()\n",
    "    yellow_ride_df.rename(columns={\n",
    "        \"tpep_pickup_datetime\": \"pickup_datetime\",\n",
    "        \"tpep_dropoff_datetime\": \"dropoff_datetime\",\n",
    "        \"PULocationID\": \"pickup_location_id\",\n",
    "        \"DOLocationID\": \"dropoff_location_id\",\n",
    "    }, inplace=True)\n",
    "\n",
    "    yellow_ride_df[\"pickup_datetime\"] = pd.to_datetime(yellow_ride_df.pickup_datetime)\n",
    "    yellow_ride_df[\"dropoff_datetime\"] = pd.to_datetime(yellow_ride_df.dropoff_datetime)\n",
    "\n",
    "    yellow_ride_df[\"duration\"] = yellow_ride_df.dropoff_datetime - yellow_ride_df.pickup_datetime\n",
    "    yellow_ride_df[\"duration_minutes\"] = yellow_ride_df.duration.dt.total_seconds() / 60\n",
    "    yellow_ride_df.drop(columns=[\"duration\"], inplace=True)\n",
    "\n",
    "\n",
    "    # Remove trip duration outliers\n",
    "    lower_duration_bound = yellow_ride_df.duration_minutes.quantile(0.05)\n",
    "    upper_duration_bound = yellow_ride_df.duration_minutes.quantile(0.95)\n",
    "    duration_outliers_filter = (yellow_ride_df.duration_minutes >= lower_duration_bound)\\\n",
    "                               & (yellow_ride_df.duration_minutes <= upper_duration_bound)\n",
    "\n",
    "    records_left_count = len(yellow_ride_df.loc[duration_outliers_filter]) / len(yellow_ride_df) * 100\n",
    "    duration_std_value_before = yellow_ride_df.duration_minutes.std()\n",
    "\n",
    "    yellow_ride_df = yellow_ride_df.loc[duration_outliers_filter].copy()\n",
    "    duration_std_value_after = yellow_ride_df.duration_minutes.std()\n",
    "\n",
    "\n",
    "    yellow_ride_df[categorical_fields] = yellow_ride_df[categorical_fields].astype(str)\n",
    "    yellow_ride_df[\"pickup_dropoff_combination\"] = yellow_ride_df.pickup_location_id + yellow_ride_df.dropoff_location_id\n",
    "\n",
    "    print(f\"Standard deviation of duration (minutes): {duration_std_value_before:.2f}\")\n",
    "    print(f\"Standard deviation of duration (minutes) without outliers: {duration_std_value_after:.2f}\")\n",
    "    print(f\"Records left after removing the outliers: {records_left_count:.2f}\")\n",
    "\n",
    "    return yellow_ride_df"
   ],
   "metadata": {
    "collapsed": false,
    "ExecuteTime": {
     "end_time": "2023-06-19T19:28:06.729512Z",
     "start_time": "2023-06-19T19:28:06.724816Z"
    }
   }
  },
  {
   "cell_type": "markdown",
   "source": [
    "## One-hot encoding"
   ],
   "metadata": {
    "collapsed": false,
    "ExecuteTime": {
     "end_time": "2023-06-13T20:01:39.454150Z",
     "start_time": "2023-06-13T20:01:38.590535Z"
    }
   },
   "outputs": [
    {
     "name": "stdout",
     "output_type": "stream",
     "text": [
      "Standard deviation of duration (minutes): 46.45\n",
      "Standard deviation of duration (minutes) without outliers: 6.48\n",
      "Records are left after removing the outliers: 90.06\n"
     ]
    }
   ],
   "execution_count": 71
  },
  {
   "cell_type": "code",
   "execution_count": 28,
   "outputs": [],
   "source": [
    "def training_dataset_encoding(train_df: pd.DataFrame, feature_fields: [] = [\"pickup_dropoff_combination\", \"trip_distance\"]) -> DictVectorizer:\n",
    "    \"\"\"\n",
    "\n",
    "    :return:\n",
    "    \"\"\"\n",
    "    train_dict = train_df[feature_fields].to_dict(orient=\"records\")\n",
    "\n",
    "    dv = DictVectorizer()\n",
    "    x_vector = dv.fit_transform(train_dict)\n",
    "\n",
    "    return (dv, x_vector)\n"
   ],
   "metadata": {
    "collapsed": false,
    "ExecuteTime": {
     "end_time": "2023-06-19T19:32:42.184440Z",
     "start_time": "2023-06-19T19:32:42.176370Z"
    }
   }
  },
  {
   "cell_type": "markdown",
   "source": [
    "## Training Model"
   ],
   "metadata": {
    "collapsed": false,
    "ExecuteTime": {
     "end_time": "2023-06-13T19:49:40.976234Z",
     "start_time": "2023-06-13T19:49:40.955523Z"
    }
   },
   "outputs": [],
   "execution_count": 43
  },
  {
   "cell_type": "code",
   "execution_count": 29,
   "outputs": [
    {
     "name": "stdout",
     "output_type": "stream",
     "text": [
      "Standard deviation of duration (minutes): 46.45\n",
      "Standard deviation of duration (minutes) without outliers: 6.48\n",
      "Records left after removing the outliers: 90.06\n"
     ]
    },
    {
     "data": {
      "text/plain": "LinearRegression()",
      "text/html": "<style>#sk-container-id-4 {color: black;background-color: white;}#sk-container-id-4 pre{padding: 0;}#sk-container-id-4 div.sk-toggleable {background-color: white;}#sk-container-id-4 label.sk-toggleable__label {cursor: pointer;display: block;width: 100%;margin-bottom: 0;padding: 0.3em;box-sizing: border-box;text-align: center;}#sk-container-id-4 label.sk-toggleable__label-arrow:before {content: \"▸\";float: left;margin-right: 0.25em;color: #696969;}#sk-container-id-4 label.sk-toggleable__label-arrow:hover:before {color: black;}#sk-container-id-4 div.sk-estimator:hover label.sk-toggleable__label-arrow:before {color: black;}#sk-container-id-4 div.sk-toggleable__content {max-height: 0;max-width: 0;overflow: hidden;text-align: left;background-color: #f0f8ff;}#sk-container-id-4 div.sk-toggleable__content pre {margin: 0.2em;color: black;border-radius: 0.25em;background-color: #f0f8ff;}#sk-container-id-4 input.sk-toggleable__control:checked~div.sk-toggleable__content {max-height: 200px;max-width: 100%;overflow: auto;}#sk-container-id-4 input.sk-toggleable__control:checked~label.sk-toggleable__label-arrow:before {content: \"▾\";}#sk-container-id-4 div.sk-estimator input.sk-toggleable__control:checked~label.sk-toggleable__label {background-color: #d4ebff;}#sk-container-id-4 div.sk-label input.sk-toggleable__control:checked~label.sk-toggleable__label {background-color: #d4ebff;}#sk-container-id-4 input.sk-hidden--visually {border: 0;clip: rect(1px 1px 1px 1px);clip: rect(1px, 1px, 1px, 1px);height: 1px;margin: -1px;overflow: hidden;padding: 0;position: absolute;width: 1px;}#sk-container-id-4 div.sk-estimator {font-family: monospace;background-color: #f0f8ff;border: 1px dotted black;border-radius: 0.25em;box-sizing: border-box;margin-bottom: 0.5em;}#sk-container-id-4 div.sk-estimator:hover {background-color: #d4ebff;}#sk-container-id-4 div.sk-parallel-item::after {content: \"\";width: 100%;border-bottom: 1px solid gray;flex-grow: 1;}#sk-container-id-4 div.sk-label:hover label.sk-toggleable__label {background-color: #d4ebff;}#sk-container-id-4 div.sk-serial::before {content: \"\";position: absolute;border-left: 1px solid gray;box-sizing: border-box;top: 0;bottom: 0;left: 50%;z-index: 0;}#sk-container-id-4 div.sk-serial {display: flex;flex-direction: column;align-items: center;background-color: white;padding-right: 0.2em;padding-left: 0.2em;position: relative;}#sk-container-id-4 div.sk-item {position: relative;z-index: 1;}#sk-container-id-4 div.sk-parallel {display: flex;align-items: stretch;justify-content: center;background-color: white;position: relative;}#sk-container-id-4 div.sk-item::before, #sk-container-id-4 div.sk-parallel-item::before {content: \"\";position: absolute;border-left: 1px solid gray;box-sizing: border-box;top: 0;bottom: 0;left: 50%;z-index: -1;}#sk-container-id-4 div.sk-parallel-item {display: flex;flex-direction: column;z-index: 1;position: relative;background-color: white;}#sk-container-id-4 div.sk-parallel-item:first-child::after {align-self: flex-end;width: 50%;}#sk-container-id-4 div.sk-parallel-item:last-child::after {align-self: flex-start;width: 50%;}#sk-container-id-4 div.sk-parallel-item:only-child::after {width: 0;}#sk-container-id-4 div.sk-dashed-wrapped {border: 1px dashed gray;margin: 0 0.4em 0.5em 0.4em;box-sizing: border-box;padding-bottom: 0.4em;background-color: white;}#sk-container-id-4 div.sk-label label {font-family: monospace;font-weight: bold;display: inline-block;line-height: 1.2em;}#sk-container-id-4 div.sk-label-container {text-align: center;}#sk-container-id-4 div.sk-container {/* jupyter's `normalize.less` sets `[hidden] { display: none; }` but bootstrap.min.css set `[hidden] { display: none !important; }` so we also need the `!important` here to be able to override the default hidden behavior on the sphinx rendered scikit-learn.org. See: https://github.com/scikit-learn/scikit-learn/issues/21755 */display: inline-block !important;position: relative;}#sk-container-id-4 div.sk-text-repr-fallback {display: none;}</style><div id=\"sk-container-id-4\" class=\"sk-top-container\"><div class=\"sk-text-repr-fallback\"><pre>LinearRegression()</pre><b>In a Jupyter environment, please rerun this cell to show the HTML representation or trust the notebook. <br />On GitHub, the HTML representation is unable to render, please try loading this page with nbviewer.org.</b></div><div class=\"sk-container\" hidden><div class=\"sk-item\"><div class=\"sk-estimator sk-toggleable\"><input class=\"sk-toggleable__control sk-hidden--visually\" id=\"sk-estimator-id-4\" type=\"checkbox\" checked><label for=\"sk-estimator-id-4\" class=\"sk-toggleable__label sk-toggleable__label-arrow\">LinearRegression</label><div class=\"sk-toggleable__content\"><pre>LinearRegression()</pre></div></div></div></div></div>"
     },
     "execution_count": 29,
     "metadata": {},
     "output_type": "execute_result"
    }
   ],
   "source": [
    "train_rides_df = read_data(TRAIN_DATA_PATH)\n",
    "dv, x_train_features = training_dataset_encoding(train_rides_df)\n",
    "\n",
    "target = \"duration_minutes\"\n",
    "y_train = train_rides_df[target].values\n",
    "\n",
    "lr = LinearRegression()\n",
    "lr.fit(x_train_features, y_train)"
   ],
   "metadata": {
    "collapsed": false,
    "ExecuteTime": {
     "end_time": "2023-06-19T19:32:54.753511Z",
     "start_time": "2023-06-19T19:32:43.951037Z"
    }
   }
  },
  {
   "cell_type": "code",
   "execution_count": 25,
   "outputs": [
    {
     "name": "stdout",
     "output_type": "stream",
     "text": [
      "Standard deviation of duration (minutes): 47.26\n",
      "Standard deviation of duration (minutes) without outliers: 7.12\n",
      "Records left after removing the outliers: 90.05\n"
     ]
    }
   ],
   "source": [
    "feature_fields = [\"pickup_dropoff_combination\", \"trip_distance\"]\n",
    "validation_rides_df = read_data(VALIDATION_DATA_PATH)\n",
    "validation_rides_dict = validation_rides_df[feature_fields].to_dict(orient=\"records\")\n",
    "x_validation_features = dv.transform(validation_rides_dict)"
   ],
   "metadata": {
    "collapsed": false,
    "ExecuteTime": {
     "end_time": "2023-06-19T19:31:31.888330Z",
     "start_time": "2023-06-19T19:31:20.848574Z"
    }
   }
  },
  {
   "cell_type": "code",
   "execution_count": 26,
   "outputs": [],
   "source": [
    "target = \"duration_minutes\"\n",
    "y_validation_values = validation_rides_df[target].values\n",
    "y_prediction_values = lr.predict(x_validation_features)"
   ],
   "metadata": {
    "collapsed": false,
    "ExecuteTime": {
     "end_time": "2023-06-19T19:31:33.979592Z",
     "start_time": "2023-06-19T19:31:33.949198Z"
    }
   }
  },
  {
   "cell_type": "code",
   "execution_count": 27,
   "outputs": [
    {
     "data": {
      "text/plain": "4.485216369240176"
     },
     "execution_count": 27,
     "metadata": {},
     "output_type": "execute_result"
    }
   ],
   "source": [
    "mean_squared_error(y_validation_values, y_prediction_values, squared=False)"
   ],
   "metadata": {
    "collapsed": false,
    "ExecuteTime": {
     "end_time": "2023-06-19T19:31:39.273573Z",
     "start_time": "2023-06-19T19:31:39.247169Z"
    }
   }
  },
  {
   "cell_type": "code",
   "execution_count": 80,
   "outputs": [
    {
     "name": "stdout",
     "output_type": "stream",
     "text": [
      "Validation RMSE: 6.3868576294229085\n"
     ]
    }
   ],
   "source": [
    "sns.histplot(y_train, label=\"train\")\n",
    "sns.histplot(y_prediction, label=\"prediction\")"
   ],
   "metadata": {
    "collapsed": false,
    "ExecuteTime": {
     "end_time": "2023-06-13T20:05:27.368575Z",
     "start_time": "2023-06-13T20:05:27.339948Z"
    }
   }
  }
 ],
 "metadata": {
  "kernelspec": {
   "display_name": "Python 3",
   "language": "python",
   "name": "python3"
  },
  "language_info": {
   "codemirror_mode": {
    "name": "ipython",
    "version": 2
   },
   "file_extension": ".py",
   "mimetype": "text/x-python",
   "name": "python",
   "nbconvert_exporter": "python",
   "pygments_lexer": "ipython2",
   "version": "2.7.6"
  }
 },
 "nbformat": 4,
 "nbformat_minor": 0
}

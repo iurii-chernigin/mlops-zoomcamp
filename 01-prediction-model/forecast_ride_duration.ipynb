{
 "cells": [
  {
   "cell_type": "code",
   "execution_count": 2,
   "metadata": {
    "collapsed": true,
    "ExecuteTime": {
     "end_time": "2023-06-15T08:35:09.013341Z",
     "start_time": "2023-06-15T08:35:08.577094Z"
    }
   },
   "outputs": [],
   "source": [
    "import pandas as pd\n",
    "\n",
    "from sklearn.feature_extraction import DictVectorizer\n",
    "from sklearn.linear_model import LinearRegression\n",
    "from sklearn.metrics import mean_squared_error\n",
    "\n",
    "import seaborn as sns"
   ]
  },
  {
   "cell_type": "code",
   "execution_count": 4,
   "outputs": [],
   "source": [
    "TRAIN_DATA_PATH = \"data/yellow_tripdata_2022-01.parquet\"\n",
    "VALIDATION_DATA_PATH = \"data/yellow_tripdata_2022-02.parquet\""
   ],
   "metadata": {
    "collapsed": false,
    "ExecuteTime": {
     "end_time": "2023-06-15T08:38:27.271501Z",
     "start_time": "2023-06-15T08:38:27.268438Z"
    }
   }
  },
  {
   "cell_type": "markdown",
   "source": [
    "## Data Preparation"
   ],
   "metadata": {
    "collapsed": false
   }
  },
  {
   "cell_type": "code",
   "execution_count": 17,
   "outputs": [],
   "source": [
    "def read_data(filepath: str=\"data/\") -> pd.DataFrame:\n",
    "    \"\"\"\n",
    "    - Read data by the path\n",
    "    - Clean data: rename fields, remove outliers, etc\n",
    "    - Print some information about the figures\n",
    "\n",
    "    :param filepath: path to parquet files\n",
    "    :return: DataFrame with cleaned data\n",
    "    \"\"\"\n",
    "    fields = [\"tpep_pickup_datetime\", \"tpep_dropoff_datetime\", \"PULocationID\", \"DOLocationID\"]\n",
    "\n",
    "    yellow_ride_df = pd.read_parquet(filepath)\n",
    "    yellow_ride_df = yellow_ride_df[fields].copy()\n",
    "    yellow_ride_df.rename(columns={\n",
    "        \"tpep_pickup_datetime\": \"pickup_datetime\",\n",
    "        \"tpep_dropoff_datetime\": \"dropoff_datetime\",\n",
    "        \"PULocationID\": \"pickup_location_id\",\n",
    "        \"DOLocationID\": \"dropoff_location_id\",\n",
    "    }, inplace=True)\n",
    "\n",
    "\n",
    "    yellow_ride_df[\"pickup_datetime\"] = pd.to_datetime(yellow_ride_df.pickup_datetime)\n",
    "    yellow_ride_df[\"dropoff_datetime\"] = pd.to_datetime(yellow_ride_df.dropoff_datetime)\n",
    "\n",
    "    yellow_ride_df[\"duration\"] = yellow_ride_df.dropoff_datetime - yellow_ride_df.pickup_datetime\n",
    "    yellow_ride_df[\"duration_minutes\"] = yellow_ride_df.duration.dt.total_seconds() / 60\n",
    "    yellow_ride_df.drop(columns=[\"duration\"], inplace=True)\n",
    "\n",
    "\n",
    "    lower_duration_bound = yellow_ride_df.duration_minutes.quantile(0.05)\n",
    "    upper_duration_bound = yellow_ride_df.duration_minutes.quantile(0.95)\n",
    "    duration_outliers_filter = (yellow_ride_df.duration_minutes >= lower_duration_bound)\\\n",
    "                               & (yellow_ride_df.duration_minutes <= upper_duration_bound)\n",
    "\n",
    "    records_left_count = len(yellow_ride_df.loc[duration_outliers_filter]) / len(yellow_ride_df) * 100\n",
    "    duration_std_value_before = yellow_ride_df.duration_minutes.std()\n",
    "\n",
    "    yellow_ride_df = yellow_ride_df.loc[duration_outliers_filter].copy()\n",
    "    duration_std_value_after = yellow_ride_df.duration_minutes.std()\n",
    "\n",
    "    print(f\"Standard deviation of duration (minutes): {duration_std_value_before:.2f}\")\n",
    "    print(f\"Standard deviation of duration (minutes) without outliers: {duration_std_value_after:.2f}\")\n",
    "    print(f\"Records left after removing the outliers: {records_left_count:.2f}\")\n",
    "\n",
    "    return yellow_ride_df"
   ],
   "metadata": {
    "collapsed": false,
    "ExecuteTime": {
     "end_time": "2023-06-15T09:03:28.844133Z",
     "start_time": "2023-06-15T09:03:28.836517Z"
    }
   }
  },
  {
   "cell_type": "markdown",
   "source": [
    "## One-hot encoding"
   ],
   "metadata": {
    "collapsed": false,
    "ExecuteTime": {
     "end_time": "2023-06-13T20:01:39.454150Z",
     "start_time": "2023-06-13T20:01:38.590535Z"
    }
   },
   "outputs": [
    {
     "name": "stdout",
     "output_type": "stream",
     "text": [
      "Standard deviation of duration (minutes): 46.45\n",
      "Standard deviation of duration (minutes) without outliers: 6.48\n",
      "Records are left after removing the outliers: 90.06\n"
     ]
    }
   ],
   "execution_count": 71
  },
  {
   "cell_type": "code",
   "execution_count": 18,
   "outputs": [],
   "source": [
    "def training_dataset_encoding(train_df: pd.DataFrame) -> DictVectorizer:\n",
    "    \"\"\"\n",
    "\n",
    "    :return:\n",
    "    \"\"\"\n",
    "    categorical_fields = [\"dropoff_location_id\", \"pickup_location_id\"]\n",
    "    train_df[categorical_fields] = train_df[categorical_fields].astype(str)\n",
    "\n",
    "    train_dict = train_df[categorical_fields].to_dict(orient=\"records\")\n",
    "\n",
    "    dv = DictVectorizer()\n",
    "    x_vector = dv.fit_transform(train_dict)\n",
    "\n",
    "    return (dv, x_vector)\n"
   ],
   "metadata": {
    "collapsed": false,
    "ExecuteTime": {
     "end_time": "2023-06-15T09:03:30.548040Z",
     "start_time": "2023-06-15T09:03:30.541491Z"
    }
   }
  },
  {
   "cell_type": "markdown",
   "source": [
    "## Training Model"
   ],
   "metadata": {
    "collapsed": false,
    "ExecuteTime": {
     "end_time": "2023-06-13T19:49:40.976234Z",
     "start_time": "2023-06-13T19:49:40.955523Z"
    }
   },
   "outputs": [],
   "execution_count": 43
  },
  {
   "cell_type": "code",
   "execution_count": 19,
   "outputs": [
    {
     "name": "stdout",
     "output_type": "stream",
     "text": [
      "Standard deviation of duration (minutes): 46.45\n",
      "Standard deviation of duration (minutes) without outliers: 6.48\n",
      "Records left after removing the outliers: 90.06\n"
     ]
    }
   ],
   "source": [
    "train_rides_df = read_data(TRAIN_DATA_PATH)\n",
    "dv, x_train_features = training_dataset_encoding(train_rides_df)\n",
    "\n",
    "target = \"duration_minutes\"\n",
    "y_train = train_rides_df[target].values"
   ],
   "metadata": {
    "collapsed": false,
    "ExecuteTime": {
     "end_time": "2023-06-15T09:03:41.265224Z",
     "start_time": "2023-06-15T09:03:32.038118Z"
    }
   }
  },
  {
   "cell_type": "code",
   "execution_count": 20,
   "outputs": [
    {
     "data": {
      "text/plain": "LinearRegression()",
      "text/html": "<style>#sk-container-id-1 {color: black;background-color: white;}#sk-container-id-1 pre{padding: 0;}#sk-container-id-1 div.sk-toggleable {background-color: white;}#sk-container-id-1 label.sk-toggleable__label {cursor: pointer;display: block;width: 100%;margin-bottom: 0;padding: 0.3em;box-sizing: border-box;text-align: center;}#sk-container-id-1 label.sk-toggleable__label-arrow:before {content: \"▸\";float: left;margin-right: 0.25em;color: #696969;}#sk-container-id-1 label.sk-toggleable__label-arrow:hover:before {color: black;}#sk-container-id-1 div.sk-estimator:hover label.sk-toggleable__label-arrow:before {color: black;}#sk-container-id-1 div.sk-toggleable__content {max-height: 0;max-width: 0;overflow: hidden;text-align: left;background-color: #f0f8ff;}#sk-container-id-1 div.sk-toggleable__content pre {margin: 0.2em;color: black;border-radius: 0.25em;background-color: #f0f8ff;}#sk-container-id-1 input.sk-toggleable__control:checked~div.sk-toggleable__content {max-height: 200px;max-width: 100%;overflow: auto;}#sk-container-id-1 input.sk-toggleable__control:checked~label.sk-toggleable__label-arrow:before {content: \"▾\";}#sk-container-id-1 div.sk-estimator input.sk-toggleable__control:checked~label.sk-toggleable__label {background-color: #d4ebff;}#sk-container-id-1 div.sk-label input.sk-toggleable__control:checked~label.sk-toggleable__label {background-color: #d4ebff;}#sk-container-id-1 input.sk-hidden--visually {border: 0;clip: rect(1px 1px 1px 1px);clip: rect(1px, 1px, 1px, 1px);height: 1px;margin: -1px;overflow: hidden;padding: 0;position: absolute;width: 1px;}#sk-container-id-1 div.sk-estimator {font-family: monospace;background-color: #f0f8ff;border: 1px dotted black;border-radius: 0.25em;box-sizing: border-box;margin-bottom: 0.5em;}#sk-container-id-1 div.sk-estimator:hover {background-color: #d4ebff;}#sk-container-id-1 div.sk-parallel-item::after {content: \"\";width: 100%;border-bottom: 1px solid gray;flex-grow: 1;}#sk-container-id-1 div.sk-label:hover label.sk-toggleable__label {background-color: #d4ebff;}#sk-container-id-1 div.sk-serial::before {content: \"\";position: absolute;border-left: 1px solid gray;box-sizing: border-box;top: 0;bottom: 0;left: 50%;z-index: 0;}#sk-container-id-1 div.sk-serial {display: flex;flex-direction: column;align-items: center;background-color: white;padding-right: 0.2em;padding-left: 0.2em;position: relative;}#sk-container-id-1 div.sk-item {position: relative;z-index: 1;}#sk-container-id-1 div.sk-parallel {display: flex;align-items: stretch;justify-content: center;background-color: white;position: relative;}#sk-container-id-1 div.sk-item::before, #sk-container-id-1 div.sk-parallel-item::before {content: \"\";position: absolute;border-left: 1px solid gray;box-sizing: border-box;top: 0;bottom: 0;left: 50%;z-index: -1;}#sk-container-id-1 div.sk-parallel-item {display: flex;flex-direction: column;z-index: 1;position: relative;background-color: white;}#sk-container-id-1 div.sk-parallel-item:first-child::after {align-self: flex-end;width: 50%;}#sk-container-id-1 div.sk-parallel-item:last-child::after {align-self: flex-start;width: 50%;}#sk-container-id-1 div.sk-parallel-item:only-child::after {width: 0;}#sk-container-id-1 div.sk-dashed-wrapped {border: 1px dashed gray;margin: 0 0.4em 0.5em 0.4em;box-sizing: border-box;padding-bottom: 0.4em;background-color: white;}#sk-container-id-1 div.sk-label label {font-family: monospace;font-weight: bold;display: inline-block;line-height: 1.2em;}#sk-container-id-1 div.sk-label-container {text-align: center;}#sk-container-id-1 div.sk-container {/* jupyter's `normalize.less` sets `[hidden] { display: none; }` but bootstrap.min.css set `[hidden] { display: none !important; }` so we also need the `!important` here to be able to override the default hidden behavior on the sphinx rendered scikit-learn.org. See: https://github.com/scikit-learn/scikit-learn/issues/21755 */display: inline-block !important;position: relative;}#sk-container-id-1 div.sk-text-repr-fallback {display: none;}</style><div id=\"sk-container-id-1\" class=\"sk-top-container\"><div class=\"sk-text-repr-fallback\"><pre>LinearRegression()</pre><b>In a Jupyter environment, please rerun this cell to show the HTML representation or trust the notebook. <br />On GitHub, the HTML representation is unable to render, please try loading this page with nbviewer.org.</b></div><div class=\"sk-container\" hidden><div class=\"sk-item\"><div class=\"sk-estimator sk-toggleable\"><input class=\"sk-toggleable__control sk-hidden--visually\" id=\"sk-estimator-id-1\" type=\"checkbox\" checked><label for=\"sk-estimator-id-1\" class=\"sk-toggleable__label sk-toggleable__label-arrow\">LinearRegression</label><div class=\"sk-toggleable__content\"><pre>LinearRegression()</pre></div></div></div></div></div>"
     },
     "execution_count": 20,
     "metadata": {},
     "output_type": "execute_result"
    }
   ],
   "source": [
    "lr = LinearRegression()\n",
    "lr.fit(x_train_features, y_train)"
   ],
   "metadata": {
    "collapsed": false,
    "ExecuteTime": {
     "end_time": "2023-06-15T09:05:38.404328Z",
     "start_time": "2023-06-15T09:05:15.242896Z"
    }
   }
  },
  {
   "cell_type": "code",
   "execution_count": 78,
   "outputs": [],
   "source": [
    "y_prediction = lr.predict(x_validation)"
   ],
   "metadata": {
    "collapsed": false,
    "ExecuteTime": {
     "end_time": "2023-06-13T20:05:01.283291Z",
     "start_time": "2023-06-13T20:05:01.275166Z"
    }
   }
  },
  {
   "cell_type": "code",
   "execution_count": 79,
   "outputs": [],
   "source": [
    "sns.histplot(y_train, label=\"train\")\n",
    "sns.histplot(y_prediction, label=\"prediction\")"
   ],
   "metadata": {
    "collapsed": false,
    "ExecuteTime": {
     "end_time": "2023-06-13T20:05:17.807361Z",
     "start_time": "2023-06-13T20:05:17.771966Z"
    }
   }
  },
  {
   "cell_type": "code",
   "execution_count": 80,
   "outputs": [
    {
     "name": "stdout",
     "output_type": "stream",
     "text": [
      "Validation RMSE: 6.3868576294229085\n"
     ]
    }
   ],
   "source": [],
   "metadata": {
    "collapsed": false,
    "ExecuteTime": {
     "end_time": "2023-06-13T20:05:27.368575Z",
     "start_time": "2023-06-13T20:05:27.339948Z"
    }
   }
  }
 ],
 "metadata": {
  "kernelspec": {
   "display_name": "Python 3",
   "language": "python",
   "name": "python3"
  },
  "language_info": {
   "codemirror_mode": {
    "name": "ipython",
    "version": 2
   },
   "file_extension": ".py",
   "mimetype": "text/x-python",
   "name": "python",
   "nbconvert_exporter": "python",
   "pygments_lexer": "ipython2",
   "version": "2.7.6"
  }
 },
 "nbformat": 4,
 "nbformat_minor": 0
}

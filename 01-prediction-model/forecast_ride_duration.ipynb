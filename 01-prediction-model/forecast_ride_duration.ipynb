{
 "cells": [
  {
   "cell_type": "code",
   "execution_count": null,
   "metadata": {
    "collapsed": true
   },
   "outputs": [],
   "source": [
    "import pandas as pd\n",
    "\n",
    "from sklearn.feature_extraction import DictVectorizer\n",
    "from sklearn.linear_model import LinearRegression\n",
    "from sklearn.metrics import mean_squared_error\n",
    "\n",
    "import seaborn as sns\n",
    "import mlflow"
   ]
  },
  {
   "cell_type": "code",
   "execution_count": null,
   "outputs": [],
   "source": [
    "mlflow.set_tracking_uri(\"sqlite:///../02-experiment-tracking/mlflow.db\")\n",
    "mlflow.set_experiment(\"yellow_tripdata-duration_prediction\")"
   ],
   "metadata": {
    "collapsed": false
   }
  },
  {
   "cell_type": "code",
   "execution_count": null,
   "outputs": [],
   "source": [
    "TRAIN_DATA_PATH = \"data/yellow_tripdata_2022-01.parquet\"\n",
    "VALIDATION_DATA_PATH = \"data/yellow_tripdata_2022-02.parquet\""
   ],
   "metadata": {
    "collapsed": false
   }
  },
  {
   "cell_type": "markdown",
   "source": [
    "## Data Preparation"
   ],
   "metadata": {
    "collapsed": false
   }
  },
  {
   "cell_type": "code",
   "execution_count": null,
   "outputs": [],
   "source": [
    "def read_data(filepath: str=\"data/\", categorical_fields: [] = [\"dropoff_location_id\", \"pickup_location_id\"]) -> pd.DataFrame:\n",
    "    \"\"\"\n",
    "    - Read data by the path\n",
    "    - Clean data: rename fields, remove outliers, etc\n",
    "    - Print some information about the figures\n",
    "\n",
    "    :param filepath: path to parquet files\n",
    "    :return: DataFrame with cleaned data\n",
    "    \"\"\"\n",
    "    fields = [\"tpep_pickup_datetime\", \"tpep_dropoff_datetime\", \"PULocationID\", \"DOLocationID\", \"trip_distance\"]\n",
    "\n",
    "    yellow_ride_df = pd.read_parquet(filepath)\n",
    "    yellow_ride_df = yellow_ride_df[fields].copy()\n",
    "    yellow_ride_df.rename(columns={\n",
    "        \"tpep_pickup_datetime\": \"pickup_datetime\",\n",
    "        \"tpep_dropoff_datetime\": \"dropoff_datetime\",\n",
    "        \"PULocationID\": \"pickup_location_id\",\n",
    "        \"DOLocationID\": \"dropoff_location_id\",\n",
    "    }, inplace=True)\n",
    "\n",
    "    yellow_ride_df[\"pickup_datetime\"] = pd.to_datetime(yellow_ride_df.pickup_datetime)\n",
    "    yellow_ride_df[\"dropoff_datetime\"] = pd.to_datetime(yellow_ride_df.dropoff_datetime)\n",
    "\n",
    "    yellow_ride_df[\"duration\"] = yellow_ride_df.dropoff_datetime - yellow_ride_df.pickup_datetime\n",
    "    yellow_ride_df[\"duration_minutes\"] = yellow_ride_df.duration.dt.total_seconds() / 60\n",
    "    yellow_ride_df.drop(columns=[\"duration\"], inplace=True)\n",
    "\n",
    "\n",
    "    # Remove trip duration outliers\n",
    "    lower_duration_bound = yellow_ride_df.duration_minutes.quantile(0.05)\n",
    "    upper_duration_bound = yellow_ride_df.duration_minutes.quantile(0.95)\n",
    "    duration_outliers_filter = (yellow_ride_df.duration_minutes >= lower_duration_bound)\\\n",
    "                               & (yellow_ride_df.duration_minutes <= upper_duration_bound)\n",
    "\n",
    "    records_left_count = len(yellow_ride_df.loc[duration_outliers_filter]) / len(yellow_ride_df) * 100\n",
    "    duration_std_value_before = yellow_ride_df.duration_minutes.std()\n",
    "\n",
    "    yellow_ride_df = yellow_ride_df.loc[duration_outliers_filter].copy()\n",
    "    duration_std_value_after = yellow_ride_df.duration_minutes.std()\n",
    "\n",
    "\n",
    "    yellow_ride_df[categorical_fields] = yellow_ride_df[categorical_fields].astype(str)\n",
    "    yellow_ride_df[\"pickup_dropoff_combination\"] = yellow_ride_df.pickup_location_id + yellow_ride_df.dropoff_location_id\n",
    "\n",
    "    print(f\"Standard deviation of duration (minutes): {duration_std_value_before:.2f}\")\n",
    "    print(f\"Standard deviation of duration (minutes) without outliers: {duration_std_value_after:.2f}\")\n",
    "    print(f\"Records left after removing the outliers: {records_left_count:.2f}\")\n",
    "\n",
    "    return yellow_ride_df"
   ],
   "metadata": {
    "collapsed": false
   }
  },
  {
   "cell_type": "markdown",
   "source": [
    "## One-hot encoding"
   ],
   "metadata": {
    "collapsed": false,
    "ExecuteTime": {
     "end_time": "2023-06-13T20:01:39.454150Z",
     "start_time": "2023-06-13T20:01:38.590535Z"
    }
   },
   "outputs": [
    {
     "name": "stdout",
     "output_type": "stream",
     "text": [
      "Standard deviation of duration (minutes): 46.45\n",
      "Standard deviation of duration (minutes) without outliers: 6.48\n",
      "Records are left after removing the outliers: 90.06\n"
     ]
    }
   ],
   "execution_count": 71
  },
  {
   "cell_type": "code",
   "execution_count": null,
   "outputs": [],
   "source": [
    "def training_dataset_encoding(train_df: pd.DataFrame, feature_fields: [] = [\"pickup_dropoff_combination\", \"trip_distance\"]) -> DictVectorizer:\n",
    "    \"\"\"\n",
    "\n",
    "    :return:\n",
    "    \"\"\"\n",
    "    train_dict = train_df[feature_fields].to_dict(orient=\"records\")\n",
    "\n",
    "    dv = DictVectorizer()\n",
    "    x_vector = dv.fit_transform(train_dict)\n",
    "\n",
    "    return (dv, x_vector)\n"
   ],
   "metadata": {
    "collapsed": false
   }
  },
  {
   "cell_type": "markdown",
   "source": [
    "## Training Model"
   ],
   "metadata": {
    "collapsed": false,
    "ExecuteTime": {
     "end_time": "2023-06-13T19:49:40.976234Z",
     "start_time": "2023-06-13T19:49:40.955523Z"
    }
   },
   "outputs": [],
   "execution_count": 43
  },
  {
   "cell_type": "code",
   "execution_count": null,
   "outputs": [],
   "source": [
    "train_rides_df = read_data(TRAIN_DATA_PATH)\n",
    "dv, x_train_features = training_dataset_encoding(train_rides_df)\n",
    "\n",
    "feature_fields = [\"pickup_dropoff_combination\", \"trip_distance\"]\n",
    "validation_rides_df = read_data(VALIDATION_DATA_PATH)\n",
    "validation_rides_dict = validation_rides_df[feature_fields].to_dict(orient=\"records\")\n",
    "x_validation_features = dv.transform(validation_rides_dict)"
   ],
   "metadata": {
    "collapsed": false
   }
  },
  {
   "cell_type": "code",
   "execution_count": null,
   "outputs": [],
   "source": [
    "with mlflow.start_run():\n",
    "\n",
    "    target = \"duration_minutes\"\n",
    "    y_train = train_rides_df[target].values\n",
    "\n",
    "    lr = LinearRegression()\n",
    "    lr.fit(x_train_features, y_train)\n",
    "\n",
    "    mlflow.set_tag(\"dataset\", \"yellow_tripdata\")\n",
    "    mlflow.log_param(\"train_data_path\", TRAIN_DATA_PATH)\n",
    "    mlflow.log_param(\"validation_data_path\", VALIDATION_DATA_PATH)\n",
    "    mlflow.log_param(\"target_field\", target)\n",
    "\n",
    "    lr = LinearRegression()\n",
    "    lr.fit(x_train_features, y_train)\n",
    "\n",
    "    y_validation_values = validation_rides_df[target].values\n",
    "    y_prediction_values = lr.predict(x_validation_features)\n",
    "\n",
    "    mean_squared_error(y_validation_values, y_prediction_values, squared=False)"
   ],
   "metadata": {
    "collapsed": false
   }
  },
  {
   "cell_type": "code",
   "execution_count": 28,
   "outputs": [
    {
     "data": {
      "text/plain": "<Axes: ylabel='Count'>"
     },
     "execution_count": 28,
     "metadata": {},
     "output_type": "execute_result"
    },
    {
     "data": {
      "text/plain": "<Figure size 640x480 with 1 Axes>",
      "image/png": "[encoded data removed]"
     },
     "metadata": {},
     "output_type": "display_data"
    }
   ],
   "source": [
    "sns.histplot(y_validation_values, label=\"train\")\n",
    "sns.histplot(y_prediction_values, label=\"prediction\")"
   ],
   "metadata": {
    "collapsed": false,
    "ExecuteTime": {
     "end_time": "2023-06-20T21:02:24.331676Z",
     "start_time": "2023-06-20T21:02:20.822712Z"
    }
   }
  },
  {
   "cell_type": "code",
   "execution_count": null,
   "outputs": [],
   "source": [],
   "metadata": {
    "collapsed": false
   }
  }
 ],
 "metadata": {
  "kernelspec": {
   "display_name": "Python 3",
   "language": "python",
   "name": "python3"
  },
  "language_info": {
   "codemirror_mode": {
    "name": "ipython",
    "version": 2
   },
   "file_extension": ".py",
   "mimetype": "text/x-python",
   "name": "python",
   "nbconvert_exporter": "python",
   "pygments_lexer": "ipython2",
   "version": "2.7.6"
  }
 },
 "nbformat": 4,
 "nbformat_minor": 0
}
